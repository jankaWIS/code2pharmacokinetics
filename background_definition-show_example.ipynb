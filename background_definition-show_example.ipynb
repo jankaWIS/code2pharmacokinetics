{
 "cells": [
  {
   "cell_type": "markdown",
   "metadata": {},
   "source": [
    "# This ntb looks at foreground images of control group of mice getting to know the typical background fluorescence of mice"
   ]
  },
  {
   "cell_type": "markdown",
   "metadata": {},
   "source": [
    "Content\n",
    "* [FRG](#FRG)\n",
    "  * [Get correction matrices for background and mice](#Get-correction-matrices-for-background-and-mice)\n",
    "    * [empty slots](#Get-background-on-empty-positions)\n",
    "    * [average mouse signal accounting for empty slot singal](#Get-the-background-of-mice-accounting-for-the-empty-slot-background)\n",
    "    * [Do the same on the entire dataset](#Do-the-same-on-the-entire-dataset)"
   ]
  },
  {
   "cell_type": "markdown",
   "metadata": {},
   "source": [
    "## FRG"
   ]
  },
  {
   "cell_type": "code",
   "execution_count": null,
   "metadata": {},
   "outputs": [],
   "source": [
    "import matplotlib.pyplot as plt\n",
    "import seaborn as sns\n",
    "import numpy as np\n",
    "import h5py\n",
    "import os, sys\n",
    "\n",
    "# Importing module for simulations checks\n",
    "functions_modul =  \"./functions\"\n",
    "sys.path.insert(0, functions_modul)\n",
    "\n",
    "from load_h5_into_np import load_h5_into_np\n",
    "\n",
    "\n",
    "file_path = \"/Users/jan/Documents/PhD/Ondra/Ondra_data/control/frg\"\n",
    "files = os.listdir(file_path)"
   ]
  },
  {
   "cell_type": "code",
   "execution_count": null,
   "metadata": {
    "scrolled": false
   },
   "outputs": [],
   "source": [
    "fig, ax = plt.subplots(2 * len(files), 5, figsize=(40, 40))\n",
    "off = 70\n",
    "background = 5\n",
    "bcg_mean_705 = np.zeros((len(files), 5))\n",
    "\n",
    "for j in range(len(files)):\n",
    "    # load the arr\n",
    "    tmp_arr = load_h5_into_np(os.path.join(file_path, files[j]))\n",
    "\n",
    "    for i in range(5):\n",
    "        y = tmp_arr[off + (200 * i) : off + (200 * (i + 1)), 250:-1]\n",
    "        ax[2 * j, i].imshow(y > background)\n",
    "        #         print('(',off+(200*i),',',off+(200*(i+1)),',',250,',',-1,')')\n",
    "        print(\"mean \", y.mean())\n",
    "        bcg_mean_705[j, i] = y.mean()\n",
    "        sns.histplot((y[y > background]).reshape(-1), ax=ax[2 * j + 1, i])\n",
    "\n",
    "\n",
    "plt.savefig(f\"frg_control_{off}_th{background}.png\")\n",
    "# plt.savefig(f\"frg_control_{off}_th{background}.pdf\")"
   ]
  },
  {
   "cell_type": "markdown",
   "metadata": {},
   "source": [
    "### Get correction matrices for background and mice"
   ]
  },
  {
   "cell_type": "markdown",
   "metadata": {},
   "source": [
    "Automatic way of detecting mice is not working well because the mouse has such a weak signal that the fourth slot has always the highest intensity regardless whether there is a mouse or not...\n",
    "\n",
    "Therefore it has to be checked manually, the name is extracted and the position fit based on the name for the individual mouse. "
   ]
  },
  {
   "cell_type": "markdown",
   "metadata": {},
   "source": [
    "### Get background on empty positions"
   ]
  },
  {
   "cell_type": "code",
   "execution_count": null,
   "metadata": {},
   "outputs": [],
   "source": [
    "# fig, ax = plt.subplots(2*len(files),5, figsize=(40,40))\n",
    "off = 70\n",
    "background = 5\n",
    "bcg_mean_705 = np.zeros((len(files), 5))\n",
    "\n",
    "positions = [[], [], [], [], []]\n",
    "\n",
    "\n",
    "for j, name in enumerate(files):\n",
    "    # load the arr\n",
    "    tmp_arr = load_h5_into_np(os.path.join(file_path, files[j]))\n",
    "\n",
    "    for i in range(5):\n",
    "        y = tmp_arr[off + (200 * i) : off + (200 * (i + 1)), 250:-1]\n",
    "        #         plt.imshow(y>background)\n",
    "        #         print('(',off+(200*i),',',off+(200*(i+1)),',',250,',',-1,')')\n",
    "        print(\"mean \", y.mean())\n",
    "        bcg_mean_705[j, i] = y.mean()\n",
    "    #         sns.histplot((y[y>background]).reshape(-1), ax=ax[2*j+1,i])\n",
    "\n",
    "    if \"vsechny\" in name:\n",
    "        # get indices of three slots with mice\n",
    "        # https://stackoverflow.com/questions/6910641/how-do-i-get-indices-of-n-maximum-values-in-a-numpy-array\n",
    "        inds = np.argpartition(bcg_mean_705[j, :], -3)[-3:]\n",
    "\n",
    "        # plot full positions\n",
    "        for k in inds:\n",
    "            z = tmp_arr[off + (200 * k) : off + (200 * (k + 1)), 250:-1]\n",
    "            plt.imshow(z > background)\n",
    "            plt.show()\n",
    "            print(f\"Mouse {j} slot {k}\")\n",
    "\n",
    "        # get the empty positions and append their values to corresponding list\n",
    "        for empty in set(range(5)) - set(inds):\n",
    "            positions[empty].append(\n",
    "                tmp_arr[off + (200 * empty) : off + (200 * (empty + 1)), 250:-1]\n",
    "            )\n",
    "\n",
    "    elif \"mys\" in name:\n",
    "        # get the position manually, CAUTION!!! Must be checked by a user\n",
    "        k = int(name.split(\"_\")[5][-1])\n",
    "        print(f\"Mouse {j} slot {k}\")\n",
    "        z = tmp_arr[off + (200 * k) : off + (200 * (k + 1)), 250:-1]\n",
    "        plt.imshow(z > background)\n",
    "        plt.show()\n",
    "        # get the empty positions and append their values to corresponding list\n",
    "        for empty in set(range(5)) - set(\n",
    "            [k]\n",
    "        ):  # k is always an int, so it must be a list\n",
    "            positions[empty].append(\n",
    "                tmp_arr[off + (200 * empty) : off + (200 * (empty + 1)), 250:-1]\n",
    "            )\n",
    "\n",
    "# create an array of means for each position\n",
    "correction_matrix_slots_list = np.concatenate(\n",
    "    [np.asarray(positions[i]).mean(axis=0) for i in range(len(positions))]\n",
    ")"
   ]
  },
  {
   "cell_type": "code",
   "execution_count": null,
   "metadata": {},
   "outputs": [],
   "source": [
    "positions[0]"
   ]
  },
  {
   "cell_type": "code",
   "execution_count": null,
   "metadata": {},
   "outputs": [],
   "source": [
    "correction_matrix_slots = np.concatenate(\n",
    "    [np.asarray(positions[i]).mean(axis=0) for i in range(len(positions))]\n",
    ")\n",
    "print(correction_matrix_slots.shape)\n",
    "\n",
    "# plot the data with different thresholds\n",
    "fig, axs = plt.subplots(ncols=4, figsize=(24, 5))\n",
    "\n",
    "thr_list = [5, 10, 20, 50]\n",
    "\n",
    "for thr, ax in zip(thr_list, axs.flatten()):\n",
    "    ax.imshow(correction_matrix_slots < thr)\n",
    "    ax.set_title(f\"thr = {thr}\")"
   ]
  },
  {
   "cell_type": "markdown",
   "metadata": {},
   "source": [
    "### Get the background of mice accounting for the empty slot background"
   ]
  },
  {
   "cell_type": "code",
   "execution_count": null,
   "metadata": {},
   "outputs": [],
   "source": [
    "# fig, ax = plt.subplots(2*len(files),5, figsize=(40,40))\n",
    "off = 70\n",
    "background = 5\n",
    "bcg_mean_705 = np.zeros((len(files), 5))\n",
    "\n",
    "# get average signal on mice\n",
    "m_positions = [[], [], [], [], []]\n",
    "\n",
    "for j, name in enumerate(files):\n",
    "    # load the arr\n",
    "    tmp_arr = load_h5_into_np(os.path.join(file_path, files[j]))\n",
    "\n",
    "    for i in range(5):\n",
    "        y = tmp_arr[off + (200 * i) : off + (200 * (i + 1)), 250:-1]\n",
    "        # correct for the given slot\n",
    "        y -= correction_matrix_slots[(200 * i) : (200 * (i + 1)), :]\n",
    "        # remove negative values\n",
    "        y[y < 0] = 0\n",
    "\n",
    "        #         plt.imshow(y>background)\n",
    "        print(\"mean \", y.mean())\n",
    "        bcg_mean_705[j, i] = y.mean()\n",
    "    #         sns.histplot((y[y>background]).reshape(-1), ax=ax[2*j+1,i])\n",
    "\n",
    "    if \"vsechny\" in name:\n",
    "        # get indices of three slots with mice\n",
    "        # https://stackoverflow.com/questions/6910641/how-do-i-get-indices-of-n-maximum-values-in-a-numpy-array\n",
    "        inds = np.argpartition(bcg_mean_705[j, :], -3)[-3:]\n",
    "\n",
    "        # plot full positions\n",
    "        for k in inds:\n",
    "            z = tmp_arr[off + (200 * k) : off + (200 * (k + 1)), 250:-1]\n",
    "            #             plt.imshow(z>background)\n",
    "            print(f\"Mouse {j} slot {k}\")\n",
    "            #             plt.show()\n",
    "\n",
    "            # get the full positions and append their values to corresponding list\n",
    "            m_positions[k].append(z)\n",
    "\n",
    "    elif \"mys\" in name:\n",
    "        # get the position manually, CAUTION!!! Must be checked by a user\n",
    "        k = int(name.split(\"_\")[5][-1])\n",
    "        print(f\"Mouse {j} slot {k}\")\n",
    "        z = tmp_arr[off + (200 * k) : off + (200 * (k + 1)), 250:-1]\n",
    "        #         plt.imshow(z>background)\n",
    "        #         plt.show()\n",
    "        # get the empty positions and append their values to corresponding list\n",
    "        m_positions[k].append(z)\n",
    "\n",
    "\n",
    "# create an array of means for each position if mouse exist, else use background signal\n",
    "correction_matrix_slots_mice_list = np.concatenate(\n",
    "    [\n",
    "        np.asarray(m_positions[i]).mean(axis=0)\n",
    "        if m_positions[i]\n",
    "        else np.asarray(positions[i]).mean(axis=0)\n",
    "        for i in range(len(m_positions))\n",
    "    ]\n",
    ")"
   ]
  },
  {
   "cell_type": "markdown",
   "metadata": {},
   "source": [
    "### Use max instead of mean to get the background signal -- eventually not used and not implemented\n",
    "\n",
    "How this works is that it subtracts the background noise but only to get the mean of that and subsequently take the slots with highest remaining mean (assuming that we removed the bacground). BUT the signal is taken from the original matrix, ie WITHOUT the background subtraction which means that it has BOTH the mouse and the background accounted for.\n",
    "\n",
    "The problem is that the location of the specs are not fixed and move a bit. If that happens, the algorithm fails on that (see New way below). A solution would be to take max value in the background instead of a mean, that should remove the entire background.\n",
    "\n",
    "\n",
    "The full cleaning, and I'm getting more and more positive about that, should be that:\n",
    "1) take the background in all empty slots, take its max. Does not have to be on controls only, could actually be done on the entire dataset (that should work because the mouse selection there is much easier -- their intensities are much higher so it's gonna be easy enough to pick the spots automatically and not have false positive with the spill; a workaround is to take only the 3 mice pictures). This will serve as the correction matrix for background. Why to take max and not mean or whatever else? In short, the positins of the mice/slots/device are not constant and shift a bit in space. That means that if we then take mean, the actuall values are diminished and the leftovers after subtracton can still cause the artefact we want to prevent. See the example above. However, max will cover this possibility because if we have enough of images for the background, it will hopefully cover all possible position and then the max will appear in the correction matrix. The price for that is being too harsh and potentially losing signal by subtracting it -- but it's a region we don't care about.\n",
    "\n",
    "2) Having that, one should take the *control* group only. For each image and slot subtract the corresponding max background (of the given slot), take the slot with a mouse and average those out. I'm unsure here if one should still do it slot specific (still accounts for some local problems) or average across slots (better statistics) but probably the first. This will give a background specific to a mouse on a given position (or generally a mouse) without the background! Again, WITHOUT A BACKGROUND, must be subtracted, not like before. That will yield a mouse specific correction matrix.\n",
    "\n",
    "3) When doing the analysis, one should load and image, sutract background AND a mouse on a given position and proceed with the analysis."
   ]
  },
  {
   "cell_type": "code",
   "execution_count": null,
   "metadata": {},
   "outputs": [],
   "source": [
    "# create an array of means for each position\n",
    "correction_matrix_slots_list_max = np.concatenate(\n",
    "    [np.asarray(positions[i]).max(axis=0) for i in range(len(positions))]\n",
    ")\n",
    "plt.imshow(correction_matrix_slots_list_max>30)"
   ]
  },
  {
   "cell_type": "markdown",
   "metadata": {},
   "source": [
    "### Do the same on the entire dataset"
   ]
  },
  {
   "cell_type": "code",
   "execution_count": null,
   "metadata": {},
   "outputs": [],
   "source": [
    "import matplotlib.pyplot as plt\n",
    "import seaborn as sns\n",
    "import numpy as np\n",
    "import h5py\n",
    "import os\n",
    "\n",
    "# all_files_path = \"/Users/jan/Documents/PhD/Ondra/Ondra_data/frg-h5\"\n",
    "# all_files_path = \"/Users/jan/Documents/PhD/Ondra/Ondra_data/frg-h5-old\"\n",
    "all_files_path = \"/Users/jan/Documents/PhD/Ondra/Ondra_data/frg\"\n",
    "all_files = os.listdir(all_files_path)\n",
    "control_files = [x for x in all_files if \"kontrola\" in x]\n",
    "control_files"
   ]
  },
  {
   "cell_type": "code",
   "execution_count": null,
   "metadata": {},
   "outputs": [],
   "source": [
    "# check shape\n",
    "for j, name in enumerate(control_files):\n",
    "    # load the arr\n",
    "    tmp_arr = load_h5_into_np(os.path.join(all_files_path, control_files[j]))\n",
    "    if tmp_arr.shape != (1024, 1024):\n",
    "        print(\"\\n\\n\", name, \"\\n\\n\")"
   ]
  },
  {
   "cell_type": "code",
   "execution_count": null,
   "metadata": {
    "scrolled": true
   },
   "outputs": [],
   "source": [
    "# fig, ax = plt.subplots(2*len(files),5, figsize=(40,40))\n",
    "off = 70\n",
    "background = 5\n",
    "positions_all = [[], [], [], [], []]\n",
    "bcg_mean_705 = np.zeros((len(control_files), len(positions_all)))\n",
    "\n",
    "for j, name in enumerate(control_files):\n",
    "    # load the arr\n",
    "    tmp_arr = load_h5_into_np(os.path.join(all_files_path, control_files[j]))\n",
    "    # loop only over correct shape\n",
    "    if tmp_arr.shape == (1024, 1024):\n",
    "        for i in range(5):\n",
    "            y = tmp_arr[off + (200 * i) : off + (200 * (i + 1)), 250:-1]\n",
    "            #             plt.imshow(y>background)\n",
    "            #         print('(',off+(200*i),',',off+(200*(i+1)),',',250,',',-1,')')\n",
    "            print(\"mean \", y.mean())\n",
    "            bcg_mean_705[j, i] = y.mean()\n",
    "        #         sns.histplot((y[y>background]).reshape(-1), ax=ax[2*j+1,i])\n",
    "\n",
    "        if \"vsechny\" in name:\n",
    "            # get indices of three slots with mice\n",
    "            # https://stackoverflow.com/questions/6910641/how-do-i-get-indices-of-n-maximum-values-in-a-numpy-array\n",
    "            inds = np.argpartition(bcg_mean_705[j, :], -3)[-3:]\n",
    "\n",
    "            # plot full positions\n",
    "            for k in inds:\n",
    "                print(f\"Mouse {j} slot {k}\")\n",
    "                z = tmp_arr[off + (200 * k) : off + (200 * (k + 1)), 250:-1]\n",
    "                plt.imshow(z > background)\n",
    "                plt.show()\n",
    "\n",
    "            # get the empty positions and append their values to corresponding list\n",
    "            for empty in set(range(5)) - set(inds):\n",
    "                positions_all[empty].append(\n",
    "                    tmp_arr[off + (200 * empty) : off + (200 * (empty + 1)), 250:-1]\n",
    "                )\n",
    "\n",
    "        elif \"mys\" in name:\n",
    "            # get the position manually, CAUTION!!! Must be checked by a user\n",
    "            k = int(name.split(\"_\")[5][-1])\n",
    "            print(f\"Mouse {j} slot {k}\")\n",
    "            z = tmp_arr[off + (200 * k) : off + (200 * (k + 1)), 250:-1]\n",
    "            plt.imshow(z > background)\n",
    "            plt.show()\n",
    "            # get the empty positions and append their values to corresponding list\n",
    "            for empty in set(range(5)) - set(\n",
    "                [k]\n",
    "            ):  # k is always an int, so it must be a list\n",
    "                positions_all[empty].append(\n",
    "                    tmp_arr[off + (200 * empty) : off + (200 * (empty + 1)), 250:-1]\n",
    "                )"
   ]
  },
  {
   "cell_type": "code",
   "execution_count": null,
   "metadata": {},
   "outputs": [],
   "source": [
    "# create an array of means for each position\n",
    "correction_matrix_slots_all = np.concatenate(\n",
    "    [np.asarray(positions_all[i]).mean(axis=0) for i in range(len(positions_all))]\n",
    ")\n",
    "\n",
    "print(correction_matrix_slots_all.shape)\n",
    "\n",
    "# plot the data with different thresholds\n",
    "fig, axs = plt.subplots(ncols=4, figsize=(24, 5))\n",
    "\n",
    "thr_list = [5, 10, 20, 50]\n",
    "\n",
    "for thr, ax in zip(thr_list, axs.flatten()):\n",
    "    ax.imshow(correction_matrix_slots_all < thr)\n",
    "    ax.set_title(f\"thr = {thr}\")\n",
    "plt.suptitle(\n",
    "    \"Correction matrix of background fluorescence under different threshold\",\n",
    "    fontsize=20,\n",
    ")\n",
    "plt.show()"
   ]
  },
  {
   "cell_type": "code",
   "execution_count": null,
   "metadata": {
    "scrolled": true
   },
   "outputs": [],
   "source": [
    "off = 70\n",
    "background = 5\n",
    "m_positions_all = [[], [], [], [], []]\n",
    "bcg_mean_705 = np.zeros((len(control_files), len(positions_all)))\n",
    "\n",
    "for j, name in enumerate(control_files):\n",
    "    # load the arr\n",
    "    tmp_arr = load_h5_into_np(os.path.join(all_files_path, control_files[j]))\n",
    "    # loop only over correct shape\n",
    "    if tmp_arr.shape == (1024, 1024):\n",
    "        for i in range(5):\n",
    "            y = tmp_arr[off + (200 * i) : off + (200 * (i + 1)), 250:-1]\n",
    "            # correct for the given slot\n",
    "            y -= correction_matrix_slots[(200 * i) : (200 * (i + 1)), :]\n",
    "            # remove negative values\n",
    "            y[y < 0] = 0\n",
    "            #         plt.imshow(y>background)\n",
    "            print(\"mean \", y.mean())\n",
    "            bcg_mean_705[j, i] = y.mean()\n",
    "        #         sns.histplot((y[y>background]).reshape(-1), ax=ax[2*j+1,i])\n",
    "\n",
    "        if \"vsechny\" in name:\n",
    "            # get indices of three slots with mice\n",
    "            # https://stackoverflow.com/questions/6910641/how-do-i-get-indices-of-n-maximum-values-in-a-numpy-array\n",
    "            inds = np.argpartition(bcg_mean_705[j, :], -3)[-3:]\n",
    "\n",
    "            # plot full positions\n",
    "            for k in inds:\n",
    "                print(f\"Mouse {j} slot {k}\")\n",
    "                z = tmp_arr[off + (200 * k) : off + (200 * (k + 1)), 250:-1]\n",
    "                plt.imshow(z > background)\n",
    "                plt.show()\n",
    "\n",
    "                # get the full positions and append their values to corresponding list\n",
    "                m_positions_all[k].append(z)\n",
    "\n",
    "        elif \"mys\" in name:\n",
    "            # get the position manually, CAUTION!!! Must be checked by a user\n",
    "            k = int(name.split(\"_\")[5][-1])\n",
    "            print(f\"Mouse {j} slot {k}\")\n",
    "            z = tmp_arr[off + (200 * k) : off + (200 * (k + 1)), 250:-1]\n",
    "            plt.imshow(z > background)\n",
    "            plt.show()\n",
    "            # get the empty positions and append their values to corresponding list\n",
    "            m_positions_all[k].append(z)"
   ]
  },
  {
   "cell_type": "code",
   "execution_count": null,
   "metadata": {},
   "outputs": [],
   "source": [
    "# create an array of means for each position if mouse exist, else use background signal\n",
    "correction_matrix_slots_mice_all = np.concatenate(\n",
    "    [\n",
    "        np.asarray(m_positions_all[i]).mean(axis=0)\n",
    "        if m_positions_all[i]\n",
    "        else np.asarray(positions_all[i]).mean(axis=0)\n",
    "        for i in range(len(m_positions_all))\n",
    "    ]\n",
    ")\n",
    "\n",
    "print(correction_matrix_slots_mice_all.shape)\n",
    "\n",
    "# plot the data with different thresholds\n",
    "fig, axs = plt.subplots(ncols=4, figsize=(24, 5))\n",
    "\n",
    "thr_list = [5, 10, 20, 50]\n",
    "\n",
    "for thr, ax in zip(thr_list, axs.flatten()):\n",
    "    ax.imshow(correction_matrix_slots_mice_all < thr)\n",
    "    ax.set_title(f\"thr = {thr}\")\n",
    "\n",
    "plt.suptitle(\n",
    "    \"Correction matrix with correction for mice's fluorescence under different threshold\",\n",
    "    fontsize=20,\n",
    ")\n",
    "plt.show()"
   ]
  },
  {
   "cell_type": "code",
   "execution_count": null,
   "metadata": {},
   "outputs": [],
   "source": [
    "sns.heatmap(correction_matrix_slots_mice_all)"
   ]
  },
  {
   "cell_type": "code",
   "execution_count": null,
   "metadata": {},
   "outputs": [],
   "source": [
    "plot_thr = 100\n",
    "\n",
    "plt.hist(\n",
    "    correction_matrix_slots_all[\n",
    "        (0 < correction_matrix_slots_all) & (correction_matrix_slots_all < plot_thr)\n",
    "    ].reshape(-1),\n",
    "    bins=1000,\n",
    ")\n",
    "plt.axvline(\n",
    "    correction_matrix_slots_all.mean(),\n",
    "    c=\"k\",\n",
    "    label=\"mean {:.3}\".format(correction_matrix_slots_all.mean()),\n",
    ")\n",
    "plt.title(\n",
    "    f\"Histogram of intensity values in correction matrix without mice for values <{plot_thr}\"\n",
    ")\n",
    "plt.xlabel(\"Intensity\")\n",
    "plt.ylabel(\"Count\")\n",
    "plt.legend()\n",
    "plt.show()"
   ]
  },
  {
   "cell_type": "code",
   "execution_count": null,
   "metadata": {},
   "outputs": [],
   "source": [
    "plt.hist(\n",
    "    correction_matrix_slots_mice_all[correction_matrix_slots_mice_all > plot_thr].reshape(-1),\n",
    "    bins=1000,\n",
    ")\n",
    "plt.title(\n",
    "    f\"Histogram of intensity values in correction matrix with mice for values >{plot_thr}\"\n",
    ")\n",
    "plt.xlabel(\"Intensity\")\n",
    "plt.ylabel(\"Count\")\n",
    "plt.show()"
   ]
  },
  {
   "cell_type": "code",
   "execution_count": null,
   "metadata": {},
   "outputs": [],
   "source": [
    "# save\n",
    "\n",
    "np.save(\"./correction_matrix_slots_mice_all.npy\", correction_matrix_slots_mice_all)"
   ]
  },
  {
   "cell_type": "code",
   "execution_count": null,
   "metadata": {},
   "outputs": [],
   "source": [
    "%load_ext watermark\n",
    "\n",
    "%watermark -a 'Jan Kadlec' -nmvu -iv"
   ]
  }
 ],
 "metadata": {
  "kernelspec": {
   "display_name": "Python 3 (ipykernel)",
   "language": "python",
   "name": "python3"
  },
  "language_info": {
   "codemirror_mode": {
    "name": "ipython",
    "version": 3
   },
   "file_extension": ".py",
   "mimetype": "text/x-python",
   "name": "python",
   "nbconvert_exporter": "python",
   "pygments_lexer": "ipython3",
   "version": "3.8.11"
  }
 },
 "nbformat": 4,
 "nbformat_minor": 4
}
